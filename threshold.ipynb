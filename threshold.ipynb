{
 "cells": [
  {
   "cell_type": "code",
   "execution_count": 1,
   "metadata": {},
   "outputs": [
    {
     "name": "stderr",
     "output_type": "stream",
     "text": [
      "The tokenizer class you load from this checkpoint is not the same type as the class this function is called from. It may result in unexpected tokenization. \n",
      "The tokenizer class you load from this checkpoint is 'XLNetTokenizer'. \n",
      "The class this function is called from is 'KoBERTTokenizer'.\n",
      "The tokenizer class you load from this checkpoint is not the same type as the class this function is called from. It may result in unexpected tokenization. \n",
      "The tokenizer class you load from this checkpoint is 'XLNetTokenizer'. \n",
      "The class this function is called from is 'KoBERTTokenizer'.\n",
      "100%|██████████| 1/1 [00:02<00:00,  2.52s/it]\n"
     ]
    }
   ],
   "source": [
    "from transformers import BertModel\n",
    "from torch.utils.data import DataLoader\n",
    "from kobert_tokenizer import KoBERTTokenizer\n",
    "from data.dataset import Sentiment\n",
    "from core.model import Linearbert\n",
    "from sklearn import metrics\n",
    "\n",
    "import torch\n",
    "import gluonnlp as nlp\n",
    "import pandas as pd\n",
    "import numpy as np\n",
    "import random\n",
    "from tqdm import tqdm\n",
    "\n",
    "# random seed 고정\n",
    "RANDOM_SEED = 11\n",
    "random.seed(RANDOM_SEED)\n",
    "np.random.seed(RANDOM_SEED)\n",
    "torch.manual_seed(RANDOM_SEED)\n",
    "torch.cuda.manual_seed(RANDOM_SEED)\n",
    "torch.backends.cudnn.deterministic = True\n",
    "\n",
    "# GPU 사용\n",
    "device = torch.device(\"cuda:1\" if torch.cuda.is_available() else \"cpu\")\n",
    "\n",
    "# KoBERT\n",
    "tokenizer = KoBERTTokenizer.from_pretrained('skt/kobert-base-v1')\n",
    "bert_model = BertModel.from_pretrained('skt/kobert-base-v1', return_dict=False)\n",
    "vocab = nlp.vocab.BERTVocab.from_sentencepiece(tokenizer.vocab_file, padding_token='[PAD]')\n",
    "\n",
    "model = Linearbert(bert_model)\n",
    "model.load_state_dict(torch.load('./saved/230413_5/230413_5_ep5_model_save.pt', map_location='cuda:1'))\n",
    "model = model.to(device)\n",
    "kemdy20 = pd.read_csv('./data/KEMDy20/kem20_te0.csv')\n",
    "\n",
    "dataset = Sentiment(kemdy20)\n",
    "test_dataloader = DataLoader(dataset, batch_size=2699, shuffle=False)\n",
    "\n",
    "def validation(model, test_dataloader):\n",
    "    model.eval()\n",
    "    \n",
    "    with torch.no_grad(): \n",
    "        for (token_ids, segment_ids, attention_mask, label) in tqdm(test_dataloader):\n",
    "            # data to gpu\n",
    "            token_ids = token_ids.long().to(device)\n",
    "            segment_ids = segment_ids.long().to(device)\n",
    "            attention_mask = attention_mask.long().to(device)\n",
    "            label = label.long().to(device)            \n",
    "\n",
    "            out = model(token_ids, segment_ids, attention_mask)\n",
    "            out = torch.sigmoid(out)\n",
    "            \n",
    "            acc_out = out.clone().detach().cpu().numpy()\n",
    "            label_ids = label.clone().detach().cpu().numpy()\n",
    "            \n",
    "            # # label 별 output & label\n",
    "            out_neu, label_neu = acc_out[:,0], label_ids[:,0]\n",
    "            out_hap, label_hap = acc_out[:,1], label_ids[:,1]\n",
    "            out_sur, label_sur = acc_out[:,2], label_ids[:,2]\n",
    "            out_ang, label_ang = acc_out[:,3], label_ids[:,3]\n",
    "            out_dis, label_dis = acc_out[:,4], label_ids[:,4]\n",
    "            out_sad, label_sad = acc_out[:,5], label_ids[:,5]\n",
    "            out_fea, label_fea = acc_out[:,6], label_ids[:,6]\n",
    "            \n",
    "            # label 별 pr auc score\n",
    "            neu_p, neu_r, neu_th = metrics.precision_recall_curve(label_neu, out_neu)\n",
    "            hap_p, hap_r, hap_th = metrics.precision_recall_curve(label_hap, out_hap)\n",
    "            sur_p, sur_r, sur_th = metrics.precision_recall_curve(label_sur, out_sur)\n",
    "            ang_p, ang_r, ang_th = metrics.precision_recall_curve(label_ang, out_ang)\n",
    "            dis_p, dis_r, dis_th = metrics.precision_recall_curve(label_dis, out_dis)\n",
    "            sad_p, sad_r, sad_th = metrics.precision_recall_curve(label_sad, out_sad)\n",
    "            fea_p, fea_r, fea_th = metrics.precision_recall_curve(label_fea, out_fea)\n",
    "            \n",
    "        return neu_th, hap_th, sur_th, ang_th, dis_th, sad_th, fea_th, neu_p, neu_r, hap_p, hap_r, sur_p, sur_r, ang_p, ang_r, dis_p, dis_r, sad_p, sad_r, fea_p, fea_r\n",
    "\n",
    "neu_th, hap_th, sur_th, ang_th, dis_th, sad_th, fea_th, neu_p, neu_r, hap_p, hap_r, sur_p, sur_r, ang_p, ang_r, dis_p, dis_r, sad_p, sad_r, fea_p, fea_r = validation(model, test_dataloader)"
   ]
  },
  {
   "cell_type": "code",
   "execution_count": 2,
   "metadata": {},
   "outputs": [],
   "source": [
    "pre=neu_p\n",
    "re=neu_r\n",
    "thr=neu_th\n",
    "\n",
    "# pre=hap_p\n",
    "# re=hap_r\n",
    "# thr=hap_th\n",
    "\n",
    "# pre=sur_p\n",
    "# re=sur_r\n",
    "# thr=sur_th\n",
    "\n",
    "# pre=ang_p\n",
    "# re=ang_r\n",
    "# thr=ang_th\n",
    "\n",
    "# pre=dis_p\n",
    "# re=dis_r\n",
    "# thr=dis_th\n",
    "\n",
    "# pre=sad_p\n",
    "# re=sad_r\n",
    "# thr=sad_th\n",
    "\n",
    "# pre=fea_p\n",
    "# re=fea_r\n",
    "# thr=fea_th"
   ]
  },
  {
   "cell_type": "code",
   "execution_count": 3,
   "metadata": {},
   "outputs": [
    {
     "data": {
      "text/html": [
       "<div>\n",
       "<style scoped>\n",
       "    .dataframe tbody tr th:only-of-type {\n",
       "        vertical-align: middle;\n",
       "    }\n",
       "\n",
       "    .dataframe tbody tr th {\n",
       "        vertical-align: top;\n",
       "    }\n",
       "\n",
       "    .dataframe thead th {\n",
       "        text-align: right;\n",
       "    }\n",
       "</style>\n",
       "<table border=\"1\" class=\"dataframe\">\n",
       "  <thead>\n",
       "    <tr style=\"text-align: right;\">\n",
       "      <th></th>\n",
       "      <th>Precision</th>\n",
       "      <th>Recall</th>\n",
       "      <th>Threshold</th>\n",
       "    </tr>\n",
       "  </thead>\n",
       "  <tbody>\n",
       "    <tr>\n",
       "      <th>0</th>\n",
       "      <td>0.874162</td>\n",
       "      <td>1.000000</td>\n",
       "      <td>0.588673</td>\n",
       "    </tr>\n",
       "    <tr>\n",
       "      <th>1</th>\n",
       "      <td>0.874115</td>\n",
       "      <td>0.999574</td>\n",
       "      <td>0.610545</td>\n",
       "    </tr>\n",
       "    <tr>\n",
       "      <th>2</th>\n",
       "      <td>0.874441</td>\n",
       "      <td>0.999574</td>\n",
       "      <td>0.611287</td>\n",
       "    </tr>\n",
       "    <tr>\n",
       "      <th>3</th>\n",
       "      <td>0.874394</td>\n",
       "      <td>0.999148</td>\n",
       "      <td>0.616285</td>\n",
       "    </tr>\n",
       "    <tr>\n",
       "      <th>4</th>\n",
       "      <td>0.874720</td>\n",
       "      <td>0.999148</td>\n",
       "      <td>0.616913</td>\n",
       "    </tr>\n",
       "  </tbody>\n",
       "</table>\n",
       "</div>"
      ],
      "text/plain": [
       "   Precision    Recall  Threshold\n",
       "0   0.874162  1.000000   0.588673\n",
       "1   0.874115  0.999574   0.610545\n",
       "2   0.874441  0.999574   0.611287\n",
       "3   0.874394  0.999148   0.616285\n",
       "4   0.874720  0.999148   0.616913"
      ]
     },
     "execution_count": 3,
     "metadata": {},
     "output_type": "execute_result"
    }
   ],
   "source": [
    "df_recall_precision = pd.DataFrame({'Precision':pre[:-1],\n",
    "                                    'Recall':re[:-1],\n",
    "                                    'Threshold':thr})\n",
    "df_recall_precision.head()"
   ]
  },
  {
   "cell_type": "code",
   "execution_count": 4,
   "metadata": {},
   "outputs": [
    {
     "data": {
      "image/png": "[encoded data removed]",
      "text/plain": [
       "<Figure size 432x288 with 1 Axes>"
      ]
     },
     "metadata": {
      "needs_background": "light"
     },
     "output_type": "display_data"
    },
    {
     "data": {
      "text/plain": [
       "<ggplot: (8787927401189)>"
      ]
     },
     "execution_count": 4,
     "metadata": {},
     "output_type": "execute_result"
    }
   ],
   "source": [
    "from plotnine import *\n",
    "import plotnine\n",
    "plotnine.options.figure_size = (8, 4.8)\n",
    "(\n",
    "    ggplot(data = df_recall_precision)+\n",
    "    geom_point(aes(x = 'Recall',\n",
    "                   y = 'Precision'),\n",
    "               size = 0.4)+\n",
    "    geom_line(aes(x = 'Recall',\n",
    "                  y = 'Precision'))+\n",
    "    labs(title = 'Precision Recall Curve')+\n",
    "    xlab('Recall')+\n",
    "    ylab('Precision')+\n",
    "    theme_minimal()\n",
    ")"
   ]
  },
  {
   "cell_type": "code",
   "execution_count": 5,
   "metadata": {},
   "outputs": [],
   "source": [
    "fscore = (2 * pre * re) / (pre + re)"
   ]
  },
  {
   "cell_type": "code",
   "execution_count": 6,
   "metadata": {},
   "outputs": [
    {
     "name": "stdout",
     "output_type": "stream",
     "text": [
      "neutral\n",
      "Best Threshold: 0.6205999851226807 with F-Score: 0.9328\n",
      "Recall: 0.9996, Precision: 0.8744\n"
     ]
    }
   ],
   "source": [
    "index = np.argmax(fscore)\n",
    "thresholdOpt = round(thr[index], ndigits = 4)\n",
    "fscoreOpt = round(fscore[index], ndigits = 4)\n",
    "recallOpt = round(re[index], ndigits = 4)\n",
    "precisionOpt = round(pre[index], ndigits = 4)\n",
    "print(\"neutral\")\n",
    "print('Best Threshold: {} with F-Score: {}'.format(thresholdOpt, fscoreOpt))\n",
    "print('Recall: {}, Precision: {}'.format(recallOpt, precisionOpt))"
   ]
  },
  {
   "cell_type": "code",
   "execution_count": 11,
   "metadata": {},
   "outputs": [
    {
     "name": "stdout",
     "output_type": "stream",
     "text": [
      "happy\n",
      "Best Threshold: 0.13850000500679016 with F-Score: 0.3103\n",
      "Recall: 0.5081, Precision: 0.2233\n"
     ]
    }
   ],
   "source": [
    "index = np.argmax(fscore)\n",
    "thresholdOpt = round(thr[index], ndigits = 4)\n",
    "fscoreOpt = round(fscore[index], ndigits = 4)\n",
    "recallOpt = round(re[index], ndigits = 4)\n",
    "precisionOpt = round(pre[index], ndigits = 4)\n",
    "print('happy')\n",
    "print('Best Threshold: {} with F-Score: {}'.format(thresholdOpt, fscoreOpt))\n",
    "print('Recall: {}, Precision: {}'.format(recallOpt, precisionOpt))"
   ]
  },
  {
   "cell_type": "code",
   "execution_count": 16,
   "metadata": {},
   "outputs": [
    {
     "name": "stdout",
     "output_type": "stream",
     "text": [
      "surprise\n",
      "Best Threshold: 0.24150000512599945 with F-Score: nan\n",
      "Recall: 0.0, Precision: 0.0\n"
     ]
    }
   ],
   "source": [
    "index = np.argmax(fscore)\n",
    "thresholdOpt = round(thr[index], ndigits = 4)\n",
    "fscoreOpt = round(fscore[index], ndigits = 4)\n",
    "recallOpt = round(re[index], ndigits = 4)\n",
    "precisionOpt = round(pre[index], ndigits = 4)\n",
    "print('surprise')\n",
    "print('Best Threshold: {} with F-Score: {}'.format(thresholdOpt, fscoreOpt))\n",
    "print('Recall: {}, Precision: {}'.format(recallOpt, precisionOpt))"
   ]
  },
  {
   "cell_type": "code",
   "execution_count": 21,
   "metadata": {},
   "outputs": [
    {
     "name": "stdout",
     "output_type": "stream",
     "text": [
      "angry\n",
      "Best Threshold: 0.02590000070631504 with F-Score: nan\n",
      "Recall: 0.0, Precision: 0.0\n"
     ]
    }
   ],
   "source": [
    "index = np.argmax(fscore)\n",
    "thresholdOpt = round(thr[index], ndigits = 4)\n",
    "fscoreOpt = round(fscore[index], ndigits = 4)\n",
    "recallOpt = round(re[index], ndigits = 4)\n",
    "precisionOpt = round(pre[index], ndigits = 4)\n",
    "print('angry')\n",
    "print('Best Threshold: {} with F-Score: {}'.format(thresholdOpt, fscoreOpt))\n",
    "print('Recall: {}, Precision: {}'.format(recallOpt, precisionOpt))"
   ]
  },
  {
   "cell_type": "code",
   "execution_count": 26,
   "metadata": {},
   "outputs": [
    {
     "name": "stdout",
     "output_type": "stream",
     "text": [
      "disgust\n",
      "Best Threshold: 0.014299999922513962 with F-Score: nan\n",
      "Recall: 0.0, Precision: 0.0\n"
     ]
    }
   ],
   "source": [
    "index = np.argmax(fscore)\n",
    "thresholdOpt = round(thr[index], ndigits = 4)\n",
    "fscoreOpt = round(fscore[index], ndigits = 4)\n",
    "recallOpt = round(re[index], ndigits = 4)\n",
    "precisionOpt = round(pre[index], ndigits = 4)\n",
    "print('disgust')\n",
    "print('Best Threshold: {} with F-Score: {}'.format(thresholdOpt, fscoreOpt))\n",
    "print('Recall: {}, Precision: {}'.format(recallOpt, precisionOpt))"
   ]
  },
  {
   "cell_type": "code",
   "execution_count": 31,
   "metadata": {},
   "outputs": [
    {
     "name": "stdout",
     "output_type": "stream",
     "text": [
      "sad\n",
      "Best Threshold: 0.0210999995470047 with F-Score: nan\n",
      "Recall: 0.0, Precision: 0.0\n"
     ]
    }
   ],
   "source": [
    "index = np.argmax(fscore)\n",
    "thresholdOpt = round(thr[index], ndigits = 4)\n",
    "fscoreOpt = round(fscore[index], ndigits = 4)\n",
    "recallOpt = round(re[index], ndigits = 4)\n",
    "precisionOpt = round(pre[index], ndigits = 4)\n",
    "print('sad')\n",
    "print('Best Threshold: {} with F-Score: {}'.format(thresholdOpt, fscoreOpt))\n",
    "print('Recall: {}, Precision: {}'.format(recallOpt, precisionOpt))"
   ]
  },
  {
   "cell_type": "code",
   "execution_count": 36,
   "metadata": {},
   "outputs": [
    {
     "name": "stdout",
     "output_type": "stream",
     "text": [
      "fear\n",
      "Best Threshold: 0.013100000098347664 with F-Score: 0.2712\n",
      "Recall: 0.2051, Precision: 0.4\n"
     ]
    }
   ],
   "source": [
    "index = np.argmax(fscore)\n",
    "thresholdOpt = round(thr[index], ndigits = 4)\n",
    "fscoreOpt = round(fscore[index], ndigits = 4)\n",
    "recallOpt = round(re[index], ndigits = 4)\n",
    "precisionOpt = round(pre[index], ndigits = 4)\n",
    "print('fear')\n",
    "print('Best Threshold: {} with F-Score: {}'.format(thresholdOpt, fscoreOpt))\n",
    "print('Recall: {}, Precision: {}'.format(recallOpt, precisionOpt))"
   ]
  }
 ],
 "metadata": {
  "kernelspec": {
   "display_name": "nlp",
   "language": "python",
   "name": "python3"
  },
  "language_info": {
   "codemirror_mode": {
    "name": "ipython",
    "version": 3
   },
   "file_extension": ".py",
   "mimetype": "text/x-python",
   "name": "python",
   "nbconvert_exporter": "python",
   "pygments_lexer": "ipython3",
   "version": "3.7.13"
  },
  "orig_nbformat": 4
 },
 "nbformat": 4,
 "nbformat_minor": 2
}
